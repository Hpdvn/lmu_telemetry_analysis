{
 "cells": [
  {
   "cell_type": "code",
   "execution_count": 3,
   "id": "dba0e421",
   "metadata": {},
   "outputs": [
    {
     "name": "stderr",
     "output_type": "stream",
     "text": [
      "c:\\Users\\hugop\\Desktop\\Python\\lmu_telemetry\\.venv\\lib\\site-packages\\polars\\meta\\build.py:5: UserWarning: Polars binary is missing!\n",
      "  from polars._utils.polars_version import get_polars_version\n"
     ]
    }
   ],
   "source": [
    "import polars as pl"
   ]
  },
  {
   "cell_type": "code",
   "execution_count": null,
   "id": "e899b4a5",
   "metadata": {},
   "outputs": [],
   "source": [
    "path_to_export = \"\" # PATH TO THE EXPORT FILE YOU WANT TO ANALYZE"
   ]
  },
  {
   "cell_type": "code",
   "execution_count": null,
   "id": "176adb6b",
   "metadata": {},
   "outputs": [],
   "source": [
    "# TODO: Display braking curves and see with turn i'm struggling with"
   ]
  }
 ],
 "metadata": {
  "kernelspec": {
   "display_name": ".venv",
   "language": "python",
   "name": "python3"
  },
  "language_info": {
   "codemirror_mode": {
    "name": "ipython",
    "version": 3
   },
   "file_extension": ".py",
   "mimetype": "text/x-python",
   "name": "python",
   "nbconvert_exporter": "python",
   "pygments_lexer": "ipython3",
   "version": "3.9.0"
  }
 },
 "nbformat": 4,
 "nbformat_minor": 5
}
